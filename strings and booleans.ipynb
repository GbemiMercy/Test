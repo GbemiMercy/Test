{
 "cells": [
  {
   "cell_type": "code",
   "execution_count": 1,
   "id": "f32ab5ca",
   "metadata": {},
   "outputs": [],
   "source": [
    "#STRINGS"
   ]
  },
  {
   "cell_type": "code",
   "execution_count": 2,
   "id": "5336d260",
   "metadata": {},
   "outputs": [
    {
     "name": "stdout",
     "output_type": "stream",
     "text": [
      "hello_world\n"
     ]
    }
   ],
   "source": [
    "print(\"hello_world\")"
   ]
  },
  {
   "cell_type": "code",
   "execution_count": 3,
   "id": "13b78417",
   "metadata": {},
   "outputs": [
    {
     "name": "stdout",
     "output_type": "stream",
     "text": [
      "hello_world\n"
     ]
    }
   ],
   "source": [
    "print('hello_world')"
   ]
  },
  {
   "cell_type": "code",
   "execution_count": 8,
   "id": "4daf47e0",
   "metadata": {},
   "outputs": [
    {
     "name": "stdout",
     "output_type": "stream",
     "text": [
      "hello,what's up\n"
     ]
    }
   ],
   "source": [
    "print('hello,what\\'s up')"
   ]
  },
  {
   "cell_type": "code",
   "execution_count": 9,
   "id": "fd56b81a",
   "metadata": {},
   "outputs": [
    {
     "name": "stdout",
     "output_type": "stream",
     "text": [
      "13\n"
     ]
    }
   ],
   "source": [
    "my_string = \"I love coding\"\n",
    "print(len(my_string))"
   ]
  },
  {
   "cell_type": "markdown",
   "id": "36202f23",
   "metadata": {},
   "source": [
    "interconversions\n",
    "str()\n",
    "float()\n",
    "int()"
   ]
  },
  {
   "cell_type": "code",
   "execution_count": 24,
   "id": "5e2dceb6",
   "metadata": {},
   "outputs": [
    {
     "data": {
      "text/plain": [
       "str"
      ]
     },
     "execution_count": 24,
     "metadata": {},
     "output_type": "execute_result"
    }
   ],
   "source": [
    "num = 564\n",
    "new = str(num)\n",
    "type(new)"
   ]
  },
  {
   "cell_type": "code",
   "execution_count": 28,
   "id": "7e6ec378",
   "metadata": {},
   "outputs": [
    {
     "data": {
      "text/plain": [
       "int"
      ]
     },
     "execution_count": 28,
     "metadata": {},
     "output_type": "execute_result"
    }
   ],
   "source": [
    "num = 3.9\n",
    "new2 = int(3.9)\n",
    "type(new2)"
   ]
  },
  {
   "cell_type": "code",
   "execution_count": 30,
   "id": "adc6a4c9",
   "metadata": {},
   "outputs": [
    {
     "data": {
      "text/plain": [
       "int"
      ]
     },
     "execution_count": 30,
     "metadata": {},
     "output_type": "execute_result"
    }
   ],
   "source": [
    "num2 = int(new)\n",
    "type(num2)"
   ]
  },
  {
   "cell_type": "code",
   "execution_count": 31,
   "id": "558a778f",
   "metadata": {},
   "outputs": [
    {
     "ename": "ValueError",
     "evalue": "invalid literal for int() with base 10: 'tech4dev'",
     "output_type": "error",
     "traceback": [
      "\u001b[1;31m---------------------------------------------------------------------------\u001b[0m",
      "\u001b[1;31mValueError\u001b[0m                                Traceback (most recent call last)",
      "Input \u001b[1;32mIn [31]\u001b[0m, in \u001b[0;36m<cell line: 2>\u001b[1;34m()\u001b[0m\n\u001b[0;32m      1\u001b[0m char \u001b[38;5;241m=\u001b[39m \u001b[38;5;124m\"\u001b[39m\u001b[38;5;124mtech4dev\u001b[39m\u001b[38;5;124m\"\u001b[39m\n\u001b[1;32m----> 2\u001b[0m \u001b[38;5;28;43mint\u001b[39;49m\u001b[43m(\u001b[49m\u001b[43mchar\u001b[49m\u001b[43m)\u001b[49m\n",
      "\u001b[1;31mValueError\u001b[0m: invalid literal for int() with base 10: 'tech4dev'"
     ]
    }
   ],
   "source": [
    "char = \"tech4dev\"\n",
    "int(char)"
   ]
  },
  {
   "cell_type": "markdown",
   "id": "c8b0d80f",
   "metadata": {},
   "source": [
    "strings index\n",
    "\n",
    "coding\n",
    "012345\n",
    "0-5-4-3-2-1"
   ]
  },
  {
   "cell_type": "code",
   "execution_count": 47,
   "id": "6ebaef20",
   "metadata": {},
   "outputs": [
    {
     "data": {
      "text/plain": [
       "'o'"
      ]
     },
     "execution_count": 47,
     "metadata": {},
     "output_type": "execute_result"
    }
   ],
   "source": [
    "mystring = \"Hello\"\n",
    "mystring[4]"
   ]
  },
  {
   "cell_type": "code",
   "execution_count": 48,
   "id": "24d654ba",
   "metadata": {},
   "outputs": [
    {
     "data": {
      "text/plain": [
       "'o'"
      ]
     },
     "execution_count": 48,
     "metadata": {},
     "output_type": "execute_result"
    }
   ],
   "source": [
    "mystring = \"Hello\"\n",
    "mystring[-1]"
   ]
  },
  {
   "cell_type": "markdown",
   "id": "e39fcda9",
   "metadata": {},
   "source": [
    "SLICING\n",
    "\n",
    "Slice notation\n",
    "[start:stop:step]"
   ]
  },
  {
   "cell_type": "code",
   "execution_count": 57,
   "id": "a3614529",
   "metadata": {},
   "outputs": [
    {
     "data": {
      "text/plain": [
       "'abc'"
      ]
     },
     "execution_count": 57,
     "metadata": {},
     "output_type": "execute_result"
    }
   ],
   "source": [
    "string = \"abcdef\"\n",
    "string[0:3]"
   ]
  },
  {
   "cell_type": "code",
   "execution_count": 54,
   "id": "9094ec77",
   "metadata": {},
   "outputs": [
    {
     "data": {
      "text/plain": [
       "'cde'"
      ]
     },
     "execution_count": 54,
     "metadata": {},
     "output_type": "execute_result"
    }
   ],
   "source": [
    "string[2:5]"
   ]
  },
  {
   "cell_type": "code",
   "execution_count": 60,
   "id": "a15e60ce",
   "metadata": {},
   "outputs": [
    {
     "data": {
      "text/plain": [
       "'ace'"
      ]
     },
     "execution_count": 60,
     "metadata": {},
     "output_type": "execute_result"
    }
   ],
   "source": [
    "string[0:6:2]"
   ]
  },
  {
   "cell_type": "code",
   "execution_count": 61,
   "id": "b01f136f",
   "metadata": {},
   "outputs": [
    {
     "data": {
      "text/plain": [
       "'abcdef'"
      ]
     },
     "execution_count": 61,
     "metadata": {},
     "output_type": "execute_result"
    }
   ],
   "source": [
    "string[0:]"
   ]
  },
  {
   "cell_type": "code",
   "execution_count": 62,
   "id": "8ef32dfc",
   "metadata": {},
   "outputs": [
    {
     "data": {
      "text/plain": [
       "'abcdef'"
      ]
     },
     "execution_count": 62,
     "metadata": {},
     "output_type": "execute_result"
    }
   ],
   "source": [
    "string[:6]"
   ]
  },
  {
   "cell_type": "code",
   "execution_count": 63,
   "id": "74799199",
   "metadata": {},
   "outputs": [
    {
     "data": {
      "text/plain": [
       "'abcdef'"
      ]
     },
     "execution_count": 63,
     "metadata": {},
     "output_type": "execute_result"
    }
   ],
   "source": [
    "string[:]"
   ]
  },
  {
   "cell_type": "code",
   "execution_count": 70,
   "id": "a89b5bd1",
   "metadata": {},
   "outputs": [
    {
     "data": {
      "text/plain": [
       "'7654321'"
      ]
     },
     "execution_count": 70,
     "metadata": {},
     "output_type": "execute_result"
    }
   ],
   "source": [
    "my = \"1234567\"\n",
    "my[:: -1]"
   ]
  },
  {
   "cell_type": "markdown",
   "id": "84bef3fa",
   "metadata": {},
   "source": [
    "CONCATENATION"
   ]
  },
  {
   "cell_type": "code",
   "execution_count": 74,
   "id": "bc43832f",
   "metadata": {},
   "outputs": [
    {
     "name": "stdout",
     "output_type": "stream",
     "text": [
      "hello, today is 21st of september\n"
     ]
    }
   ],
   "source": [
    "str1 = \"hello, today is\"\n",
    "str2 = \"21st of september\"\n",
    "print(str1 + \" \" + str2)"
   ]
  },
  {
   "cell_type": "code",
   "execution_count": 75,
   "id": "da5065c8",
   "metadata": {},
   "outputs": [
    {
     "ename": "TypeError",
     "evalue": "'str' object does not support item assignment",
     "output_type": "error",
     "traceback": [
      "\u001b[1;31m---------------------------------------------------------------------------\u001b[0m",
      "\u001b[1;31mTypeError\u001b[0m                                 Traceback (most recent call last)",
      "Input \u001b[1;32mIn [75]\u001b[0m, in \u001b[0;36m<cell line: 2>\u001b[1;34m()\u001b[0m\n\u001b[0;32m      1\u001b[0m new \u001b[38;5;241m=\u001b[39m \u001b[38;5;124m\"\u001b[39m\u001b[38;5;124mhello\u001b[39m\u001b[38;5;124m\"\u001b[39m\n\u001b[1;32m----> 2\u001b[0m new[\u001b[38;5;241m1\u001b[39m] \u001b[38;5;241m=\u001b[39m \u001b[38;5;124m\"\u001b[39m\u001b[38;5;124mu\u001b[39m\u001b[38;5;124m\"\u001b[39m\n",
      "\u001b[1;31mTypeError\u001b[0m: 'str' object does not support item assignment"
     ]
    }
   ],
   "source": [
    "#immutability of a string\n",
    "\n",
    "new = \"hello\"\n",
    "new[1] = \"u\""
   ]
  },
  {
   "cell_type": "code",
   "execution_count": 77,
   "id": "5b20cba3",
   "metadata": {},
   "outputs": [
    {
     "data": {
      "text/plain": [
       "'We love data'"
      ]
     },
     "execution_count": 77,
     "metadata": {},
     "output_type": "execute_result"
    }
   ],
   "source": [
    "new_string = \"we love data\"\n",
    "new_string.capitalize()\n",
    "    "
   ]
  },
  {
   "cell_type": "code",
   "execution_count": 93,
   "id": "c5a9a4e5",
   "metadata": {},
   "outputs": [
    {
     "name": "stdout",
     "output_type": "stream",
     "text": [
      "12\n"
     ]
    }
   ],
   "source": [
    "print(len(new_string))"
   ]
  },
  {
   "cell_type": "code",
   "execution_count": 78,
   "id": "59a01bb7",
   "metadata": {},
   "outputs": [
    {
     "data": {
      "text/plain": [
       "'we love data'"
      ]
     },
     "execution_count": 78,
     "metadata": {},
     "output_type": "execute_result"
    }
   ],
   "source": [
    "new_string.casefold()"
   ]
  },
  {
   "cell_type": "code",
   "execution_count": 80,
   "id": "d9f95d0c",
   "metadata": {},
   "outputs": [
    {
     "data": {
      "text/plain": [
       "'WE LOVE DATA'"
      ]
     },
     "execution_count": 80,
     "metadata": {},
     "output_type": "execute_result"
    }
   ],
   "source": [
    "new_string.upper()"
   ]
  },
  {
   "cell_type": "code",
   "execution_count": 81,
   "id": "63d968c8",
   "metadata": {},
   "outputs": [
    {
     "data": {
      "text/plain": [
       "'we love data'"
      ]
     },
     "execution_count": 81,
     "metadata": {},
     "output_type": "execute_result"
    }
   ],
   "source": [
    "new_string.lower()"
   ]
  },
  {
   "cell_type": "code",
   "execution_count": 82,
   "id": "4e83c217",
   "metadata": {},
   "outputs": [
    {
     "data": {
      "text/plain": [
       "True"
      ]
     },
     "execution_count": 82,
     "metadata": {},
     "output_type": "execute_result"
    }
   ],
   "source": [
    "new_string.islower()"
   ]
  },
  {
   "cell_type": "code",
   "execution_count": 84,
   "id": "7a90ec07",
   "metadata": {},
   "outputs": [
    {
     "data": {
      "text/plain": [
       "False"
      ]
     },
     "execution_count": 84,
     "metadata": {},
     "output_type": "execute_result"
    }
   ],
   "source": [
    "new_string.isupper()"
   ]
  },
  {
   "cell_type": "code",
   "execution_count": 85,
   "id": "9a406eb8",
   "metadata": {},
   "outputs": [
    {
     "data": {
      "text/plain": [
       "False"
      ]
     },
     "execution_count": 85,
     "metadata": {},
     "output_type": "execute_result"
    }
   ],
   "source": [
    "new_string.isnumeric()"
   ]
  },
  {
   "cell_type": "code",
   "execution_count": 88,
   "id": "d99ca8c3",
   "metadata": {},
   "outputs": [
    {
     "data": {
      "text/plain": [
       "2"
      ]
     },
     "execution_count": 88,
     "metadata": {},
     "output_type": "execute_result"
    }
   ],
   "source": [
    "new_string.count(\"a\")"
   ]
  },
  {
   "cell_type": "code",
   "execution_count": 94,
   "id": "4dd35392",
   "metadata": {},
   "outputs": [
    {
     "data": {
      "text/plain": [
       "8"
      ]
     },
     "execution_count": 94,
     "metadata": {},
     "output_type": "execute_result"
    }
   ],
   "source": [
    "new_string.find(\"d\")"
   ]
  },
  {
   "cell_type": "code",
   "execution_count": 91,
   "id": "16d3a520",
   "metadata": {},
   "outputs": [
    {
     "data": {
      "text/plain": [
       "['we', 'love', 'data']"
      ]
     },
     "execution_count": 91,
     "metadata": {},
     "output_type": "execute_result"
    }
   ],
   "source": [
    "new_string.split()"
   ]
  },
  {
   "cell_type": "code",
   "execution_count": 95,
   "id": "16676ea4",
   "metadata": {},
   "outputs": [
    {
     "data": {
      "text/plain": [
       "'we love data'"
      ]
     },
     "execution_count": 95,
     "metadata": {},
     "output_type": "execute_result"
    }
   ],
   "source": [
    "new_string"
   ]
  },
  {
   "cell_type": "markdown",
   "id": "70057aa1",
   "metadata": {},
   "source": [
    "string formatting"
   ]
  },
  {
   "cell_type": "code",
   "execution_count": 97,
   "id": "1e91be3b",
   "metadata": {},
   "outputs": [],
   "source": [
    "user_name = \"chiamaka\"\n",
    "password = 12345"
   ]
  },
  {
   "cell_type": "code",
   "execution_count": 98,
   "id": "c6d28c13",
   "metadata": {},
   "outputs": [
    {
     "name": "stdout",
     "output_type": "stream",
     "text": [
      "welcome chiamaka and your password is 12345\n"
     ]
    }
   ],
   "source": [
    "print(\"welcome {} and your password is {}\".format(user_name, password))"
   ]
  },
  {
   "cell_type": "code",
   "execution_count": 102,
   "id": "6026b5c1",
   "metadata": {},
   "outputs": [
    {
     "name": "stdout",
     "output_type": "stream",
     "text": [
      "My salaray will be 1 million next year\n"
     ]
    }
   ],
   "source": [
    "my_S = \"My salary will be {} next year\"\n",
    "salary = \"1 million\"\n",
    "print(my_S.format(salary))"
   ]
  },
  {
   "cell_type": "code",
   "execution_count": 103,
   "id": "08ed47ad",
   "metadata": {},
   "outputs": [],
   "source": [
    "action = \"learn\""
   ]
  },
  {
   "cell_type": "code",
   "execution_count": 111,
   "id": "f34002f3",
   "metadata": {},
   "outputs": [
    {
     "name": "stdout",
     "output_type": "stream",
     "text": [
      "chiamaka needs to learn python\n"
     ]
    }
   ],
   "source": [
    "print(\"{b} needs to {a} python\".format(b=user_name, a=action))"
   ]
  },
  {
   "cell_type": "code",
   "execution_count": 112,
   "id": "ae327be9",
   "metadata": {},
   "outputs": [],
   "source": [
    "##BOOLEANS"
   ]
  },
  {
   "cell_type": "code",
   "execution_count": 113,
   "id": "70e3c2d3",
   "metadata": {},
   "outputs": [],
   "source": [
    "a = True"
   ]
  },
  {
   "cell_type": "code",
   "execution_count": 114,
   "id": "4f7b01a1",
   "metadata": {},
   "outputs": [
    {
     "data": {
      "text/plain": [
       "True"
      ]
     },
     "execution_count": 114,
     "metadata": {},
     "output_type": "execute_result"
    }
   ],
   "source": [
    "a"
   ]
  },
  {
   "cell_type": "code",
   "execution_count": null,
   "id": "f71f0726",
   "metadata": {},
   "outputs": [],
   "source": [
    "1 == 2"
   ]
  },
  {
   "cell_type": "code",
   "execution_count": 118,
   "id": "1aa37250",
   "metadata": {},
   "outputs": [
    {
     "data": {
      "text/plain": [
       "False"
      ]
     },
     "execution_count": 118,
     "metadata": {},
     "output_type": "execute_result"
    }
   ],
   "source": [
    "1 > 2"
   ]
  },
  {
   "cell_type": "code",
   "execution_count": 119,
   "id": "005ad0c5",
   "metadata": {},
   "outputs": [
    {
     "data": {
      "text/plain": [
       "True"
      ]
     },
     "execution_count": 119,
     "metadata": {},
     "output_type": "execute_result"
    }
   ],
   "source": [
    "1 < 2"
   ]
  },
  {
   "cell_type": "code",
   "execution_count": 120,
   "id": "4fe543ae",
   "metadata": {},
   "outputs": [
    {
     "data": {
      "text/plain": [
       "False"
      ]
     },
     "execution_count": 120,
     "metadata": {},
     "output_type": "execute_result"
    }
   ],
   "source": [
    "1 >= 2"
   ]
  },
  {
   "cell_type": "code",
   "execution_count": 121,
   "id": "e55bbb0f",
   "metadata": {},
   "outputs": [
    {
     "data": {
      "text/plain": [
       "True"
      ]
     },
     "execution_count": 121,
     "metadata": {},
     "output_type": "execute_result"
    }
   ],
   "source": [
    "1 <= 3"
   ]
  },
  {
   "cell_type": "code",
   "execution_count": 122,
   "id": "17a20f12",
   "metadata": {},
   "outputs": [
    {
     "data": {
      "text/plain": [
       "False"
      ]
     },
     "execution_count": 122,
     "metadata": {},
     "output_type": "execute_result"
    }
   ],
   "source": [
    "2 != 2"
   ]
  },
  {
   "cell_type": "code",
   "execution_count": 123,
   "id": "462b7412",
   "metadata": {},
   "outputs": [
    {
     "data": {
      "text/plain": [
       "True"
      ]
     },
     "execution_count": 123,
     "metadata": {},
     "output_type": "execute_result"
    }
   ],
   "source": [
    "#and \n",
    "\n",
    "1 < 2 and 2 > 1"
   ]
  },
  {
   "cell_type": "code",
   "execution_count": 124,
   "id": "e2e1dc8d",
   "metadata": {},
   "outputs": [
    {
     "data": {
      "text/plain": [
       "False"
      ]
     },
     "execution_count": 124,
     "metadata": {},
     "output_type": "execute_result"
    }
   ],
   "source": [
    "1 < 2 and 2 < 1"
   ]
  },
  {
   "cell_type": "code",
   "execution_count": 125,
   "id": "98b49a77",
   "metadata": {},
   "outputs": [],
   "source": [
    "#or"
   ]
  },
  {
   "cell_type": "code",
   "execution_count": 126,
   "id": "f43c2592",
   "metadata": {},
   "outputs": [
    {
     "data": {
      "text/plain": [
       "True"
      ]
     },
     "execution_count": 126,
     "metadata": {},
     "output_type": "execute_result"
    }
   ],
   "source": [
    "1 < 2 or 2 < 1"
   ]
  },
  {
   "cell_type": "code",
   "execution_count": null,
   "id": "b61d18cb",
   "metadata": {},
   "outputs": [],
   "source": []
  }
 ],
 "metadata": {
  "kernelspec": {
   "display_name": "Python 3 (ipykernel)",
   "language": "python",
   "name": "python3"
  },
  "language_info": {
   "codemirror_mode": {
    "name": "ipython",
    "version": 3
   },
   "file_extension": ".py",
   "mimetype": "text/x-python",
   "name": "python",
   "nbconvert_exporter": "python",
   "pygments_lexer": "ipython3",
   "version": "3.9.13"
  }
 },
 "nbformat": 4,
 "nbformat_minor": 5
}
