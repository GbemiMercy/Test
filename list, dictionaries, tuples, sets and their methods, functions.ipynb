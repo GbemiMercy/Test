{
 "cells": [
  {
   "cell_type": "code",
   "execution_count": 1,
   "id": "157142ac",
   "metadata": {},
   "outputs": [],
   "source": [
    "# mylist = [\"mercy\", \"chiamaka\", \"bola\"]\n",
    "# print(mylist)"
   ]
  },
  {
   "cell_type": "code",
   "execution_count": 2,
   "id": "d2d46486",
   "metadata": {},
   "outputs": [
    {
     "name": "stdout",
     "output_type": "stream",
     "text": [
      "['esther', 23, 6.9, True]\n"
     ]
    }
   ],
   "source": [
    "mylist2 =[\"esther\", 23, 6.9, True]\n",
    "print(mylist2)"
   ]
  },
  {
   "cell_type": "code",
   "execution_count": 3,
   "id": "aec3de1c",
   "metadata": {},
   "outputs": [
    {
     "name": "stdout",
     "output_type": "stream",
     "text": [
      "4\n"
     ]
    }
   ],
   "source": [
    "print(len(mylist2))"
   ]
  },
  {
   "cell_type": "code",
   "execution_count": 4,
   "id": "d16b802a",
   "metadata": {},
   "outputs": [
    {
     "name": "stdout",
     "output_type": "stream",
     "text": [
      "<class 'list'>\n"
     ]
    }
   ],
   "source": [
    "print(type(mylist2))"
   ]
  },
  {
   "cell_type": "code",
   "execution_count": 5,
   "id": "174b5cc5",
   "metadata": {},
   "outputs": [
    {
     "data": {
      "text/plain": [
       "'esther'"
      ]
     },
     "execution_count": 5,
     "metadata": {},
     "output_type": "execute_result"
    }
   ],
   "source": [
    "mylist2[0]"
   ]
  },
  {
   "cell_type": "code",
   "execution_count": 6,
   "id": "550efc5c",
   "metadata": {},
   "outputs": [
    {
     "data": {
      "text/plain": [
       "6.9"
      ]
     },
     "execution_count": 6,
     "metadata": {},
     "output_type": "execute_result"
    }
   ],
   "source": [
    "mylist2[2]"
   ]
  },
  {
   "cell_type": "code",
   "execution_count": 7,
   "id": "b44b59d1",
   "metadata": {},
   "outputs": [
    {
     "data": {
      "text/plain": [
       "['esther', 23, 6.9]"
      ]
     },
     "execution_count": 7,
     "metadata": {},
     "output_type": "execute_result"
    }
   ],
   "source": [
    "mylist2[0:3]"
   ]
  },
  {
   "cell_type": "code",
   "execution_count": 8,
   "id": "bc1f3587",
   "metadata": {},
   "outputs": [
    {
     "name": "stdout",
     "output_type": "stream",
     "text": [
      "yes!, rhoda is in the list\n"
     ]
    }
   ],
   "source": [
    "mylist = [\"esther\", \"chiamaka\", \"aliyu\", \"abiola\", \"rhoda\"]\n",
    "if \"rhoda\" in mylist:\n",
    "    print(\"yes!, rhoda is in the list\")"
   ]
  },
  {
   "cell_type": "code",
   "execution_count": 9,
   "id": "e6bff2de",
   "metadata": {},
   "outputs": [
    {
     "name": "stdout",
     "output_type": "stream",
     "text": [
      "not here\n"
     ]
    }
   ],
   "source": [
    "mylist = [\"esther\", \"chiamaka\", \"aliyu\", \"abiola\", \"rhoda\"]\n",
    "if \"lubabat\" in mylist:\n",
    "    print(\"yes!, rhoda is in the list\")\n",
    "else:\n",
    "    print(\"not here\")"
   ]
  },
  {
   "cell_type": "code",
   "execution_count": 10,
   "id": "71de72f8",
   "metadata": {},
   "outputs": [
    {
     "data": {
      "text/plain": [
       "['esther', 'chiamaka', 'aliyu', 'abiola', 'rhoda']"
      ]
     },
     "execution_count": 10,
     "metadata": {},
     "output_type": "execute_result"
    }
   ],
   "source": [
    "mylist"
   ]
  },
  {
   "cell_type": "code",
   "execution_count": 11,
   "id": "c44ad219",
   "metadata": {},
   "outputs": [
    {
     "name": "stdout",
     "output_type": "stream",
     "text": [
      "['esther', 'omolaso', 'chiamaka', 'aliyu', 'abiola', 'rhoda']\n"
     ]
    }
   ],
   "source": [
    "#insert method\n",
    "mylist.insert(1, \"omolaso\")\n",
    "print(mylist)"
   ]
  },
  {
   "cell_type": "code",
   "execution_count": 12,
   "id": "0fbfa44f",
   "metadata": {},
   "outputs": [
    {
     "name": "stdout",
     "output_type": "stream",
     "text": [
      "['esther', 'omolaso', 'chiamaka', 'aliyu', 'abiola', 'rhoda']\n"
     ]
    }
   ],
   "source": [
    "print(mylist)"
   ]
  },
  {
   "cell_type": "code",
   "execution_count": 13,
   "id": "d5ce9081",
   "metadata": {},
   "outputs": [
    {
     "name": "stdout",
     "output_type": "stream",
     "text": [
      "['esther', 'omolaso', 'chiamaka', 'aliyu', 'abiola', 'rhoda', 'rit']\n"
     ]
    }
   ],
   "source": [
    "#append method\n",
    "mylist.append(\"rit\")\n",
    "print(mylist)"
   ]
  },
  {
   "cell_type": "code",
   "execution_count": 14,
   "id": "0ef72e26",
   "metadata": {},
   "outputs": [
    {
     "name": "stdout",
     "output_type": "stream",
     "text": [
      "['mary', 'george', 'muhammed', 'michael', 'amina', 'zara']\n"
     ]
    }
   ],
   "source": [
    "mylist11 = [\"mary\", \"george\", \"muhammed\"]\n",
    "mylist22 = [\"michael\", \"amina\", \"zara\"]\n",
    "mylist11.extend(mylist22)\n",
    "print(mylist11)"
   ]
  },
  {
   "cell_type": "code",
   "execution_count": 15,
   "id": "d7d5e7e7",
   "metadata": {},
   "outputs": [
    {
     "data": {
      "text/plain": [
       "['esther', 'omolaso', 'chiamaka', 'aliyu', 'abiola', 'rhoda', 'rit']"
      ]
     },
     "execution_count": 15,
     "metadata": {},
     "output_type": "execute_result"
    }
   ],
   "source": [
    "mylist"
   ]
  },
  {
   "cell_type": "code",
   "execution_count": 16,
   "id": "5f9c9f53",
   "metadata": {},
   "outputs": [
    {
     "name": "stdout",
     "output_type": "stream",
     "text": [
      "['esther', 'omolaso', 'chiamaka', 'abiola', 'rhoda', 'rit']\n"
     ]
    }
   ],
   "source": [
    "mylist.remove(\"aliyu\")\n",
    "print(mylist)"
   ]
  },
  {
   "cell_type": "code",
   "execution_count": 17,
   "id": "dbf4a616",
   "metadata": {},
   "outputs": [
    {
     "data": {
      "text/plain": [
       "['esther', 'omolaso', 'chiamaka', 'abiola', 'rhoda', 'rit']"
      ]
     },
     "execution_count": 17,
     "metadata": {},
     "output_type": "execute_result"
    }
   ],
   "source": [
    "mylist"
   ]
  },
  {
   "cell_type": "code",
   "execution_count": 18,
   "id": "b5eb0e39",
   "metadata": {},
   "outputs": [
    {
     "data": {
      "text/plain": [
       "'abiola'"
      ]
     },
     "execution_count": 18,
     "metadata": {},
     "output_type": "execute_result"
    }
   ],
   "source": [
    "mylist.pop(3)"
   ]
  },
  {
   "cell_type": "code",
   "execution_count": 19,
   "id": "4014eb0e",
   "metadata": {},
   "outputs": [
    {
     "name": "stdout",
     "output_type": "stream",
     "text": [
      "['esther', 'omolaso', 'chiamaka', 'rhoda', 'rit']\n"
     ]
    }
   ],
   "source": [
    "print(mylist)"
   ]
  },
  {
   "cell_type": "code",
   "execution_count": 20,
   "id": "25564af6",
   "metadata": {},
   "outputs": [
    {
     "data": {
      "text/plain": [
       "['esther', 'omolaso', 'chiamaka', 'rhoda', 'rit']"
      ]
     },
     "execution_count": 20,
     "metadata": {},
     "output_type": "execute_result"
    }
   ],
   "source": [
    "mylist"
   ]
  },
  {
   "cell_type": "code",
   "execution_count": 21,
   "id": "84c0b889",
   "metadata": {},
   "outputs": [
    {
     "name": "stdout",
     "output_type": "stream",
     "text": [
      "['chiamaka', 'esther', 'omolaso', 'rhoda', 'rit']\n"
     ]
    }
   ],
   "source": [
    "mylist.sort()\n",
    "print(mylist)"
   ]
  },
  {
   "cell_type": "code",
   "execution_count": 22,
   "id": "03198b1e",
   "metadata": {},
   "outputs": [
    {
     "name": "stdout",
     "output_type": "stream",
     "text": [
      "['rit', 'rhoda', 'omolaso', 'esther', 'chiamaka']\n"
     ]
    }
   ],
   "source": [
    "mylist.sort(reverse = True)\n",
    "print(mylist)"
   ]
  },
  {
   "cell_type": "code",
   "execution_count": 23,
   "id": "6384514e",
   "metadata": {},
   "outputs": [
    {
     "data": {
      "text/plain": [
       "['rit', 'rhoda', 'omolaso', 'esther', 'chiamaka']"
      ]
     },
     "execution_count": 23,
     "metadata": {},
     "output_type": "execute_result"
    }
   ],
   "source": [
    "mylist"
   ]
  },
  {
   "cell_type": "code",
   "execution_count": 24,
   "id": "a3daa984",
   "metadata": {},
   "outputs": [
    {
     "name": "stdout",
     "output_type": "stream",
     "text": [
      "rit\n",
      "rhoda\n",
      "omolaso\n",
      "esther\n",
      "chiamaka\n"
     ]
    }
   ],
   "source": [
    "for items in mylist:\n",
    "    print(items)"
   ]
  },
  {
   "cell_type": "markdown",
   "id": "88b20737",
   "metadata": {},
   "source": [
    "List comprehensions"
   ]
  },
  {
   "cell_type": "code",
   "execution_count": 25,
   "id": "d1f4cf44",
   "metadata": {},
   "outputs": [
    {
     "name": "stdout",
     "output_type": "stream",
     "text": [
      "[200, 300]\n"
     ]
    }
   ],
   "source": [
    "mynumbers = [200, 300, 450, 500, 600, 700]\n",
    "\n",
    "new = []\n",
    "\n",
    "for numbers in mynumbers:\n",
    "    if numbers < 450:\n",
    "        new.append(numbers)\n",
    "        \n",
    "print(new)"
   ]
  },
  {
   "cell_type": "markdown",
   "id": "2c1b8b86",
   "metadata": {},
   "source": [
    "SYNTAX\n",
    "newlist = [expression for items in iterable(my-old list) if condition == True]"
   ]
  },
  {
   "cell_type": "code",
   "execution_count": 26,
   "id": "495be2c1",
   "metadata": {},
   "outputs": [
    {
     "name": "stdout",
     "output_type": "stream",
     "text": [
      "[200, 300]\n"
     ]
    }
   ],
   "source": [
    "new = [numbers for numbers in mynumbers if numbers < 450]\n",
    "print(new)"
   ]
  },
  {
   "cell_type": "code",
   "execution_count": 27,
   "id": "3a80d7b8",
   "metadata": {},
   "outputs": [
    {
     "name": "stdout",
     "output_type": "stream",
     "text": [
      "[1, 2, 3, [4, 5, 6], [7, 8, 9]]\n"
     ]
    }
   ],
   "source": [
    "\n",
    "nested_list = [1,2,3,[4,5,6], [7,8,9]]\n",
    "print(nested_list)"
   ]
  },
  {
   "cell_type": "code",
   "execution_count": 28,
   "id": "46fa23f5",
   "metadata": {},
   "outputs": [
    {
     "name": "stdout",
     "output_type": "stream",
     "text": [
      "[4, 5, 6]\n"
     ]
    }
   ],
   "source": [
    "print(nested_list[3])"
   ]
  },
  {
   "cell_type": "code",
   "execution_count": 29,
   "id": "76f5c6e9",
   "metadata": {},
   "outputs": [
    {
     "name": "stdout",
     "output_type": "stream",
     "text": [
      "[7, 8, 9]\n"
     ]
    }
   ],
   "source": [
    "print(nested_list[4])"
   ]
  },
  {
   "cell_type": "code",
   "execution_count": 30,
   "id": "840d5b92",
   "metadata": {},
   "outputs": [
    {
     "name": "stdout",
     "output_type": "stream",
     "text": [
      "5\n"
     ]
    }
   ],
   "source": [
    "print(nested_list[3][1])"
   ]
  },
  {
   "cell_type": "markdown",
   "id": "91a22ea5",
   "metadata": {},
   "source": [
    "DICTIONARIES"
   ]
  },
  {
   "cell_type": "code",
   "execution_count": 31,
   "id": "c0b6e6a4",
   "metadata": {},
   "outputs": [
    {
     "name": "stdout",
     "output_type": "stream",
     "text": [
      "{'name': 'omolaso', 'age': 90, 'country': 'ghana'}\n"
     ]
    }
   ],
   "source": [
    "mydict = {\n",
    "    \"name\": \"omolaso\",\n",
    "    \"age\" : 90,\n",
    "    \"country\": \"ghana\"\n",
    "}\n",
    "print(mydict)"
   ]
  },
  {
   "cell_type": "code",
   "execution_count": 32,
   "id": "30c72146",
   "metadata": {},
   "outputs": [],
   "source": [
    "# mydict2 = {}\n",
    "# mydict2[\"name\"] = \"chiamaka\"\n",
    "\n",
    "# mydict2[\"age\"] = 80\n",
    "\n",
    "# print(mydict2)\n",
    "\n"
   ]
  },
  {
   "cell_type": "code",
   "execution_count": 33,
   "id": "58e04446",
   "metadata": {},
   "outputs": [
    {
     "name": "stdout",
     "output_type": "stream",
     "text": [
      "ghana\n"
     ]
    }
   ],
   "source": [
    "print(mydict[\"country\"])"
   ]
  },
  {
   "cell_type": "code",
   "execution_count": 34,
   "id": "13da60c6",
   "metadata": {},
   "outputs": [
    {
     "name": "stdout",
     "output_type": "stream",
     "text": [
      "{'name': 'omolaso', 'age': 90, 'country': 'Senegal'}\n"
     ]
    }
   ],
   "source": [
    "#changing a value to a new one \n",
    "mydict[\"country\"] = \"Senegal\"\n",
    "print(mydict)"
   ]
  },
  {
   "cell_type": "code",
   "execution_count": 35,
   "id": "e5ae8b74",
   "metadata": {},
   "outputs": [
    {
     "data": {
      "text/plain": [
       "{'name': 'omolaso', 'age': 90, 'country': 'Senegal'}"
      ]
     },
     "execution_count": 35,
     "metadata": {},
     "output_type": "execute_result"
    }
   ],
   "source": [
    "mydict"
   ]
  },
  {
   "cell_type": "code",
   "execution_count": 36,
   "id": "7423553d",
   "metadata": {},
   "outputs": [
    {
     "name": "stdout",
     "output_type": "stream",
     "text": [
      "{'name': 'omolaso', 'age': 55, 'country': 'Nigeria'}\n"
     ]
    }
   ],
   "source": [
    "#dictionaries don't support duplicates, it picks the last value or assignment\n",
    "mydict2 = {\n",
    "    \"name\": \"omolaso\",\n",
    "    \"age\" : 90,\n",
    "    \"country\": \"ghana\",\n",
    "    \"country\" : \"Nigeria\",\n",
    "    \"age\" : 55\n",
    "}\n",
    "print(mydict2)"
   ]
  },
  {
   "cell_type": "code",
   "execution_count": 37,
   "id": "f08b7a71",
   "metadata": {},
   "outputs": [
    {
     "data": {
      "text/plain": [
       "{'name': 'omolaso', 'age': 55, 'country': 'Nigeria'}"
      ]
     },
     "execution_count": 37,
     "metadata": {},
     "output_type": "execute_result"
    }
   ],
   "source": [
    "mydict2"
   ]
  },
  {
   "cell_type": "code",
   "execution_count": 38,
   "id": "d88ab3c6",
   "metadata": {},
   "outputs": [
    {
     "name": "stdout",
     "output_type": "stream",
     "text": [
      "3\n"
     ]
    }
   ],
   "source": [
    "#to see the length of your dictionary\n",
    "print(len(mydict))"
   ]
  },
  {
   "cell_type": "code",
   "execution_count": 39,
   "id": "2752f9e5",
   "metadata": {},
   "outputs": [
    {
     "data": {
      "text/plain": [
       "{'name': 'omolaso', 'age': 90, 'country': 'Senegal'}"
      ]
     },
     "execution_count": 39,
     "metadata": {},
     "output_type": "execute_result"
    }
   ],
   "source": [
    "mydict"
   ]
  },
  {
   "cell_type": "code",
   "execution_count": 40,
   "id": "2c667e75",
   "metadata": {},
   "outputs": [
    {
     "data": {
      "text/plain": [
       "dict_keys(['name', 'age', 'country'])"
      ]
     },
     "execution_count": 40,
     "metadata": {},
     "output_type": "execute_result"
    }
   ],
   "source": [
    "#keys - to get the keys in a dictionary\n",
    "mydict.keys()"
   ]
  },
  {
   "cell_type": "code",
   "execution_count": 41,
   "id": "f11577a9",
   "metadata": {},
   "outputs": [
    {
     "data": {
      "text/plain": [
       "dict_values(['omolaso', 90, 'Senegal'])"
      ]
     },
     "execution_count": 41,
     "metadata": {},
     "output_type": "execute_result"
    }
   ],
   "source": [
    "#values - to get the values in a dictionary\n",
    "mydict.values()"
   ]
  },
  {
   "cell_type": "code",
   "execution_count": 42,
   "id": "a2f50dd5",
   "metadata": {},
   "outputs": [
    {
     "data": {
      "text/plain": [
       "dict_items([('name', 'omolaso'), ('age', 90), ('country', 'Senegal')])"
      ]
     },
     "execution_count": 42,
     "metadata": {},
     "output_type": "execute_result"
    }
   ],
   "source": [
    "#items method - to get the items in the dictionary\n",
    "mydict.items()"
   ]
  },
  {
   "cell_type": "code",
   "execution_count": 43,
   "id": "2b66e720",
   "metadata": {},
   "outputs": [
    {
     "name": "stdout",
     "output_type": "stream",
     "text": [
      "yes\n"
     ]
    }
   ],
   "source": [
    "#check if a key exists in a dictionary\n",
    "if \"country\" in mydict:\n",
    "    print(\"yes\")"
   ]
  },
  {
   "cell_type": "code",
   "execution_count": 44,
   "id": "1702008f",
   "metadata": {},
   "outputs": [
    {
     "name": "stdout",
     "output_type": "stream",
     "text": [
      "{'name': 'omolaso', 'country': 'Senegal'}\n"
     ]
    }
   ],
   "source": [
    "#removes an item by passing in the key as an argument\n",
    "mydict.pop(\"age\")\n",
    "print(mydict)"
   ]
  },
  {
   "cell_type": "code",
   "execution_count": 45,
   "id": "dad08b56",
   "metadata": {},
   "outputs": [
    {
     "data": {
      "text/plain": [
       "{'name': 'omolaso', 'country': 'Senegal'}"
      ]
     },
     "execution_count": 45,
     "metadata": {},
     "output_type": "execute_result"
    }
   ],
   "source": [
    "mydict"
   ]
  },
  {
   "cell_type": "code",
   "execution_count": 46,
   "id": "1b54d66a",
   "metadata": {},
   "outputs": [
    {
     "name": "stdout",
     "output_type": "stream",
     "text": [
      "{'name': 'omolaso'}\n"
     ]
    }
   ],
   "source": [
    "#this deletes a key\n",
    "del mydict[\"country\"]\n",
    "print(mydict)"
   ]
  },
  {
   "cell_type": "code",
   "execution_count": 47,
   "id": "efd51b75",
   "metadata": {},
   "outputs": [
    {
     "ename": "NameError",
     "evalue": "name 'mydict' is not defined",
     "output_type": "error",
     "traceback": [
      "\u001b[1;31m---------------------------------------------------------------------------\u001b[0m",
      "\u001b[1;31mNameError\u001b[0m                                 Traceback (most recent call last)",
      "\u001b[1;32m~\\AppData\\Local\\Temp\\ipykernel_5400\\4148061825.py\u001b[0m in \u001b[0;36m<module>\u001b[1;34m\u001b[0m\n\u001b[0;32m      1\u001b[0m \u001b[1;31m#this deletes the complete dictionary\u001b[0m\u001b[1;33m\u001b[0m\u001b[1;33m\u001b[0m\u001b[0m\n\u001b[0;32m      2\u001b[0m \u001b[1;32mdel\u001b[0m \u001b[0mmydict\u001b[0m\u001b[1;33m\u001b[0m\u001b[1;33m\u001b[0m\u001b[0m\n\u001b[1;32m----> 3\u001b[1;33m \u001b[0mprint\u001b[0m\u001b[1;33m(\u001b[0m\u001b[0mmydict\u001b[0m\u001b[1;33m)\u001b[0m\u001b[1;33m\u001b[0m\u001b[1;33m\u001b[0m\u001b[0m\n\u001b[0m",
      "\u001b[1;31mNameError\u001b[0m: name 'mydict' is not defined"
     ]
    }
   ],
   "source": [
    "#this deletes the complete dictionary\n",
    "del mydict\n",
    "print(mydict)"
   ]
  },
  {
   "cell_type": "code",
   "execution_count": 48,
   "id": "cf39b457",
   "metadata": {},
   "outputs": [],
   "source": [
    "mydict3 = {\n",
    "    \"name\": \"rhoda\",\n",
    "    \"age\": 45,\n",
    "    \"state\": \"kogi\"\n",
    "}"
   ]
  },
  {
   "cell_type": "code",
   "execution_count": 49,
   "id": "8cff36bb",
   "metadata": {},
   "outputs": [
    {
     "data": {
      "text/plain": [
       "{'name': 'rhoda', 'age': 45, 'state': 'kogi'}"
      ]
     },
     "execution_count": 49,
     "metadata": {},
     "output_type": "execute_result"
    }
   ],
   "source": [
    "mydict3"
   ]
  },
  {
   "cell_type": "code",
   "execution_count": 50,
   "id": "f6f66493",
   "metadata": {},
   "outputs": [
    {
     "name": "stdout",
     "output_type": "stream",
     "text": [
      "{}\n"
     ]
    }
   ],
   "source": [
    "mydict3.clear()\n",
    "print(mydict3)"
   ]
  },
  {
   "cell_type": "code",
   "execution_count": 51,
   "id": "e0484ff3",
   "metadata": {},
   "outputs": [
    {
     "name": "stdout",
     "output_type": "stream",
     "text": [
      "{'name': 'mercy', 'age': 45, 'state': 'lagos', 'country': 'Nigeria'}\n"
     ]
    }
   ],
   "source": [
    "mydict4 = {\n",
    "    \"name\": \"mercy\",\n",
    "    \"age\": 45,\n",
    "    \"state\": \"lagos\",\n",
    "    \"country\": \"Nigeria\"\n",
    "}\n",
    "print(mydict4)"
   ]
  },
  {
   "cell_type": "code",
   "execution_count": 52,
   "id": "3cfee80d",
   "metadata": {},
   "outputs": [
    {
     "name": "stdout",
     "output_type": "stream",
     "text": [
      "name\n",
      "age\n",
      "state\n",
      "country\n"
     ]
    }
   ],
   "source": [
    "for items in mydict4:\n",
    "    print(items)"
   ]
  },
  {
   "cell_type": "code",
   "execution_count": 53,
   "id": "7e16f4a1",
   "metadata": {},
   "outputs": [
    {
     "name": "stdout",
     "output_type": "stream",
     "text": [
      "mercy\n",
      "45\n",
      "lagos\n",
      "Nigeria\n"
     ]
    }
   ],
   "source": [
    "for items in mydict4.values():\n",
    "    print(items)"
   ]
  },
  {
   "cell_type": "code",
   "execution_count": 54,
   "id": "78bd91c2",
   "metadata": {},
   "outputs": [
    {
     "name": "stdout",
     "output_type": "stream",
     "text": [
      "name mercy\n",
      "age 45\n",
      "state lagos\n",
      "country Nigeria\n"
     ]
    }
   ],
   "source": [
    "for keys, values in mydict4.items():\n",
    "    print(keys,values)"
   ]
  },
  {
   "cell_type": "markdown",
   "id": "de71b43d",
   "metadata": {},
   "source": [
    "TUPLES"
   ]
  },
  {
   "cell_type": "code",
   "execution_count": 55,
   "id": "b1f273ec",
   "metadata": {},
   "outputs": [
    {
     "name": "stdout",
     "output_type": "stream",
     "text": [
      "('mercedez', 'golf', 'audi', 'toyota', 'golf')\n",
      "<class 'tuple'>\n"
     ]
    }
   ],
   "source": [
    "mytuple = (\"mercedez\", \"golf\", \"audi\", \"toyota\", \"golf\")\n",
    "print(mytuple)\n",
    "print(type(mytuple))"
   ]
  },
  {
   "cell_type": "code",
   "execution_count": 56,
   "id": "559bc67c",
   "metadata": {},
   "outputs": [
    {
     "name": "stdout",
     "output_type": "stream",
     "text": [
      "('one', 23, True, 4.5)\n",
      "<class 'tuple'>\n"
     ]
    }
   ],
   "source": [
    "mytuple2 = (\"one\", 23, True, 4.5)\n",
    "print(mytuple2)\n",
    "print(type(mytuple2))"
   ]
  },
  {
   "cell_type": "code",
   "execution_count": 57,
   "id": "e848a737",
   "metadata": {},
   "outputs": [
    {
     "name": "stdout",
     "output_type": "stream",
     "text": [
      "golf\n"
     ]
    }
   ],
   "source": [
    "print(mytuple[1])"
   ]
  },
  {
   "cell_type": "code",
   "execution_count": 58,
   "id": "a01a7f86",
   "metadata": {},
   "outputs": [
    {
     "name": "stdout",
     "output_type": "stream",
     "text": [
      "('audi', 'toyota')\n"
     ]
    }
   ],
   "source": [
    "print(mytuple[-3:-1])"
   ]
  },
  {
   "cell_type": "code",
   "execution_count": 59,
   "id": "027e80a5",
   "metadata": {},
   "outputs": [
    {
     "name": "stdout",
     "output_type": "stream",
     "text": [
      "golf\n"
     ]
    }
   ],
   "source": [
    "print(mytuple[-1])"
   ]
  },
  {
   "cell_type": "code",
   "execution_count": 60,
   "id": "f56e013a",
   "metadata": {},
   "outputs": [
    {
     "name": "stdout",
     "output_type": "stream",
     "text": [
      "('golf', 'audi')\n"
     ]
    }
   ],
   "source": [
    "print(mytuple[1:3])"
   ]
  },
  {
   "cell_type": "code",
   "execution_count": 61,
   "id": "f47856a0",
   "metadata": {},
   "outputs": [
    {
     "ename": "TypeError",
     "evalue": "'tuple' object does not support item assignment",
     "output_type": "error",
     "traceback": [
      "\u001b[1;31m---------------------------------------------------------------------------\u001b[0m",
      "\u001b[1;31mTypeError\u001b[0m                                 Traceback (most recent call last)",
      "\u001b[1;32m~\\AppData\\Local\\Temp\\ipykernel_5400\\1869668471.py\u001b[0m in \u001b[0;36m<module>\u001b[1;34m\u001b[0m\n\u001b[0;32m      1\u001b[0m \u001b[1;31m#tuple does not support reassignment, tuples are immutable\u001b[0m\u001b[1;33m\u001b[0m\u001b[1;33m\u001b[0m\u001b[0m\n\u001b[1;32m----> 2\u001b[1;33m \u001b[0mmytuple\u001b[0m\u001b[1;33m[\u001b[0m\u001b[1;34m\"toyota\"\u001b[0m\u001b[1;33m]\u001b[0m \u001b[1;33m=\u001b[0m \u001b[1;34m\"gwagon\"\u001b[0m\u001b[1;33m\u001b[0m\u001b[1;33m\u001b[0m\u001b[0m\n\u001b[0m",
      "\u001b[1;31mTypeError\u001b[0m: 'tuple' object does not support item assignment"
     ]
    }
   ],
   "source": [
    "#tuple does not support reassignment, tuples are immutable\n",
    "mytuple[\"toyota\"] = \"gwagon\""
   ]
  },
  {
   "cell_type": "code",
   "execution_count": 62,
   "id": "209fc7e4",
   "metadata": {},
   "outputs": [
    {
     "name": "stdout",
     "output_type": "stream",
     "text": [
      "1\n"
     ]
    }
   ],
   "source": [
    "print(mytuple.index(\"golf\"))"
   ]
  },
  {
   "cell_type": "code",
   "execution_count": 63,
   "id": "ef37e937",
   "metadata": {},
   "outputs": [
    {
     "name": "stdout",
     "output_type": "stream",
     "text": [
      "2\n"
     ]
    }
   ],
   "source": [
    "print(mytuple.count(\"golf\"))"
   ]
  },
  {
   "cell_type": "code",
   "execution_count": 64,
   "id": "d9b7f3d4",
   "metadata": {},
   "outputs": [
    {
     "name": "stdout",
     "output_type": "stream",
     "text": [
      "('mercedez', 'golf', 'gwagon', 'toyota', 'golf')\n"
     ]
    }
   ],
   "source": [
    "mytuple = (\"mercedez\", \"golf\", \"audi\", \"toyota\", \"golf\")\n",
    "mylist = list(mytuple)\n",
    "mylist[2] = \"gwagon\"\n",
    "mytuple = tuple(mylist)\n",
    "print(mytuple)"
   ]
  },
  {
   "cell_type": "code",
   "execution_count": 65,
   "id": "760cf001",
   "metadata": {},
   "outputs": [
    {
     "name": "stdout",
     "output_type": "stream",
     "text": [
      "mercedez\n",
      "golf\n",
      "gwagon\n",
      "toyota\n",
      "golf\n"
     ]
    }
   ],
   "source": [
    "for elements in mytuple:\n",
    "    print(elements)"
   ]
  },
  {
   "cell_type": "code",
   "execution_count": 66,
   "id": "a6b710a4",
   "metadata": {},
   "outputs": [
    {
     "name": "stdout",
     "output_type": "stream",
     "text": [
      "mercedez\n",
      "golf\n",
      "audi\n",
      "toyota\n",
      "golf\n"
     ]
    }
   ],
   "source": [
    "#tuple unpacking\n",
    "mytuple = (\"mercedez\", \"golf\", \"audi\", \"toyota\", \"golf\")\n",
    "car1, car2, car3, car4, car5 = mytuple\n",
    "print(car1)\n",
    "print(car2)\n",
    "print(car3)\n",
    "print(car4)\n",
    "print(car5)"
   ]
  },
  {
   "cell_type": "markdown",
   "id": "4febea30",
   "metadata": {},
   "source": [
    "SETS"
   ]
  },
  {
   "cell_type": "code",
   "execution_count": 67,
   "id": "a2c9348b",
   "metadata": {},
   "outputs": [
    {
     "name": "stdout",
     "output_type": "stream",
     "text": [
      "{True, 2, 'banana', 'apple', 5.6}\n",
      "<class 'set'>\n",
      "5\n"
     ]
    }
   ],
   "source": [
    "myset = {\"apple\", \"banana\", 2, 5.6, True}\n",
    "print(myset)\n",
    "print(type(myset))\n",
    "print(len(myset))"
   ]
  },
  {
   "cell_type": "code",
   "execution_count": 68,
   "id": "4d4bac34",
   "metadata": {},
   "outputs": [
    {
     "ename": "TypeError",
     "evalue": "'set' object is not subscriptable",
     "output_type": "error",
     "traceback": [
      "\u001b[1;31m---------------------------------------------------------------------------\u001b[0m",
      "\u001b[1;31mTypeError\u001b[0m                                 Traceback (most recent call last)",
      "\u001b[1;32m~\\AppData\\Local\\Temp\\ipykernel_5400\\1445833769.py\u001b[0m in \u001b[0;36m<module>\u001b[1;34m\u001b[0m\n\u001b[1;32m----> 1\u001b[1;33m \u001b[0mprint\u001b[0m\u001b[1;33m(\u001b[0m\u001b[0mmyset\u001b[0m\u001b[1;33m[\u001b[0m\u001b[1;36m0\u001b[0m\u001b[1;33m]\u001b[0m\u001b[1;33m)\u001b[0m\u001b[1;33m\u001b[0m\u001b[1;33m\u001b[0m\u001b[0m\n\u001b[0m",
      "\u001b[1;31mTypeError\u001b[0m: 'set' object is not subscriptable"
     ]
    }
   ],
   "source": [
    "print(myset[0])"
   ]
  },
  {
   "cell_type": "code",
   "execution_count": 69,
   "id": "55e3cb13",
   "metadata": {},
   "outputs": [
    {
     "name": "stdout",
     "output_type": "stream",
     "text": [
      "True\n",
      "2\n",
      "banana\n",
      "apple\n",
      "5.6\n"
     ]
    }
   ],
   "source": [
    "for items in myset:\n",
    "    print(items)"
   ]
  },
  {
   "cell_type": "code",
   "execution_count": 70,
   "id": "a4e25e17",
   "metadata": {},
   "outputs": [
    {
     "name": "stdout",
     "output_type": "stream",
     "text": [
      "{True, 2, 'banana', 'strawberry', 'apple', 5.6}\n"
     ]
    }
   ],
   "source": [
    "myset = {\"apple\", \"banana\", 2, 5.6, True}\n",
    "myset.add(\"strawberry\")\n",
    "print(myset)"
   ]
  },
  {
   "cell_type": "code",
   "execution_count": 71,
   "id": "cd21a5bb",
   "metadata": {},
   "outputs": [
    {
     "name": "stdout",
     "output_type": "stream",
     "text": [
      "True\n",
      "{2, 'banana', 'strawberry', 'apple', 5.6}\n"
     ]
    }
   ],
   "source": [
    "print(myset.pop())\n",
    "print(myset)"
   ]
  },
  {
   "cell_type": "code",
   "execution_count": 72,
   "id": "fd0d5826",
   "metadata": {},
   "outputs": [
    {
     "name": "stdout",
     "output_type": "stream",
     "text": [
      "{3, 4}\n",
      "{3, 4, 5, 6}\n",
      "True\n"
     ]
    }
   ],
   "source": [
    "myset1 = {3,4}\n",
    "myset2 = {3,4,5,6}\n",
    "myset3 = myset1.intersection(myset2)\n",
    "myset4 = myset1.union(myset2)\n",
    "print(myset3)\n",
    "print(myset4)\n",
    "print(myset1.issubset(myset2))"
   ]
  },
  {
   "cell_type": "markdown",
   "id": "e3ba3b6c",
   "metadata": {},
   "source": [
    "FUNCTIONS"
   ]
  },
  {
   "cell_type": "markdown",
   "id": "51f5eff4",
   "metadata": {},
   "source": [
    "in-built functions\n",
    "print\n",
    "len\n",
    "int\n",
    "type "
   ]
  },
  {
   "cell_type": "code",
   "execution_count": 73,
   "id": "aafd2c82",
   "metadata": {},
   "outputs": [],
   "source": [
    "#A function is a set of statements that perform a particular task, saves us from writing a particular routine over again\n",
    "#1. A function is a block of statements that only runs when it is called\n",
    "#2. the function is defined only once but can be called as many times as possible or as desired\n",
    "#3. you can pass data into a function. that data is called a parameter or an argument.\n",
    "#4. \n",
    "\n",
    "\n",
    "#syntax for defining a function\n",
    "\n",
    "\n",
    "#def name_of_function():\n",
    "    #block of code\n",
    " \n",
    "#name_of_function()\n",
    "\n",
    "\n",
    "\n",
    "#positional arguments\n",
    "#keyword arguments\n",
    "#default arguments"
   ]
  },
  {
   "cell_type": "code",
   "execution_count": 74,
   "id": "442149f4",
   "metadata": {},
   "outputs": [
    {
     "name": "stdout",
     "output_type": "stream",
     "text": [
      "hello world\n"
     ]
    }
   ],
   "source": [
    "def first_function():\n",
    "    print(\"hello world\")\n",
    "    \n",
    "first_function()"
   ]
  },
  {
   "cell_type": "code",
   "execution_count": 75,
   "id": "3f4b6ff6",
   "metadata": {},
   "outputs": [
    {
     "name": "stdout",
     "output_type": "stream",
     "text": [
      "hello Rit\n"
     ]
    }
   ],
   "source": [
    "#defining a function with a positional argument\n",
    "\n",
    "def first_function(name):\n",
    "    print(\"hello\", name)\n",
    "    \n",
    "first_function(\"Rit\")"
   ]
  },
  {
   "cell_type": "code",
   "execution_count": 76,
   "id": "25de5970",
   "metadata": {},
   "outputs": [
    {
     "name": "stdout",
     "output_type": "stream",
     "text": [
      "9\n"
     ]
    }
   ],
   "source": [
    "#defining a function with multiple positional arguments\n",
    "\n",
    "def addnumbers(number1, number2):\n",
    "    result = number1 + number2\n",
    "    print(result)\n",
    "    \n",
    "addnumbers(3,6)"
   ]
  },
  {
   "cell_type": "code",
   "execution_count": 77,
   "id": "15d6a3db",
   "metadata": {},
   "outputs": [
    {
     "name": "stdout",
     "output_type": "stream",
     "text": [
      "10\n"
     ]
    }
   ],
   "source": [
    "#defining a function with a default argument\n",
    "\n",
    "def addnumbers(number1 = 5, number2 = 5):\n",
    "    result = number1 + number2\n",
    "    print(result)\n",
    "    \n",
    "addnumbers()"
   ]
  },
  {
   "cell_type": "code",
   "execution_count": 78,
   "id": "cc9161bc",
   "metadata": {},
   "outputs": [
    {
     "name": "stdout",
     "output_type": "stream",
     "text": [
      "10\n"
     ]
    }
   ],
   "source": [
    "#defining a function with a keyword argument\n",
    "\n",
    "def addnumbers(number1, number2):\n",
    "    result = number1 + number2\n",
    "    print(result)\n",
    "    \n",
    "addnumbers(number1=5, number2=5)"
   ]
  },
  {
   "cell_type": "code",
   "execution_count": 79,
   "id": "e4d95bcc",
   "metadata": {},
   "outputs": [
    {
     "name": "stdout",
     "output_type": "stream",
     "text": [
      "9\n"
     ]
    }
   ],
   "source": [
    "#defining a function with a keyword argument\n",
    "\n",
    "def addnumbers(number1, number2):\n",
    "    result = number1 + number2\n",
    "    print(result)\n",
    "    \n",
    "addnumbers(4, number2=5)"
   ]
  },
  {
   "cell_type": "code",
   "execution_count": 80,
   "id": "ae16ede8",
   "metadata": {},
   "outputs": [],
   "source": [
    "#syntax when using a return statement\n",
    "\n",
    "#def func_name:\n",
    "    #code_to_be_executed\n",
    "    #return statement"
   ]
  },
  {
   "cell_type": "code",
   "execution_count": 81,
   "id": "ebe76a9b",
   "metadata": {},
   "outputs": [
    {
     "name": "stdout",
     "output_type": "stream",
     "text": [
      "7\n"
     ]
    }
   ],
   "source": [
    "def addnumbers(number1, number2):\n",
    "    return number1 + number2\n",
    "\n",
    "myresult = addnumbers(2,5)\n",
    "print(myresult)"
   ]
  },
  {
   "cell_type": "code",
   "execution_count": 82,
   "id": "945ebd8c",
   "metadata": {},
   "outputs": [
    {
     "data": {
      "text/plain": [
       "'even_number'"
      ]
     },
     "execution_count": 82,
     "metadata": {},
     "output_type": "execute_result"
    }
   ],
   "source": [
    "def isevenorodd(number):\n",
    "    if number%2 == 0:\n",
    "        return \"even_number\"\n",
    "    else:\n",
    "        return \"odd_number\"\n",
    "    \n",
    "isevenorodd(22)"
   ]
  },
  {
   "cell_type": "code",
   "execution_count": 83,
   "id": "3177b817",
   "metadata": {},
   "outputs": [
    {
     "data": {
      "text/plain": [
       "15"
      ]
     },
     "execution_count": 83,
     "metadata": {},
     "output_type": "execute_result"
    }
   ],
   "source": [
    "#function args - used when youn don't know how many arguments will be passed to your function\n",
    "def addfunction(*number):\n",
    "    return sum(number)\n",
    "\n",
    "addfunction(1,2,3,4,5)"
   ]
  },
  {
   "cell_type": "code",
   "execution_count": 86,
   "id": "54d0f557",
   "metadata": {},
   "outputs": [
    {
     "name": "stdout",
     "output_type": "stream",
     "text": [
      "{'name': 'gbemi', 'age': 100, 'country': 'nigeria', 'hobby': 'eating'}\n"
     ]
    }
   ],
   "source": [
    "#kwargs\n",
    "def aboutme(**me):\n",
    "    print(me)\n",
    "    \n",
    "aboutme(name=\"gbemi\",age=100,country=\"nigeria\",hobby=\"eating\")"
   ]
  },
  {
   "cell_type": "code",
   "execution_count": null,
   "id": "2c088080",
   "metadata": {},
   "outputs": [],
   "source": []
  }
 ],
 "metadata": {
  "kernelspec": {
   "display_name": "Python 3 (ipykernel)",
   "language": "python",
   "name": "python3"
  },
  "language_info": {
   "codemirror_mode": {
    "name": "ipython",
    "version": 3
   },
   "file_extension": ".py",
   "mimetype": "text/x-python",
   "name": "python",
   "nbconvert_exporter": "python",
   "pygments_lexer": "ipython3",
   "version": "3.9.13"
  }
 },
 "nbformat": 4,
 "nbformat_minor": 5
}
