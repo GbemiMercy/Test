{
 "cells": [
  {
   "cell_type": "markdown",
   "id": "b90f1776",
   "metadata": {},
   "source": [
    "FUNCTIONS"
   ]
  },
  {
   "cell_type": "markdown",
   "id": "52f944c1",
   "metadata": {},
   "source": [
    "in-built functions\n",
    "print\n",
    "len\n",
    "int\n",
    "type "
   ]
  },
  {
   "cell_type": "code",
   "execution_count": 83,
   "id": "b15b9d8c",
   "metadata": {},
   "outputs": [],
   "source": [
    "#A function is a set of statements that perform a particular task, saves us from writing a particular routine over again\n",
    "#1. A function is a block of statements that only runs when it is called\n",
    "#2. the function is defined only once but can be called as many times as possible or as desired\n",
    "#3. you can pass data into a function. that data is called a parameter or an argument.\n",
    "#4. \n",
    "\n",
    "\n",
    "#syntax for defining a function\n",
    "\n",
    "\n",
    "#def name_of_function():\n",
    "    #block of code\n",
    " \n",
    "#name_of_function()\n",
    "\n",
    "\n",
    "\n",
    "#positional arguments\n",
    "#keyword arguments\n",
    "#default arguments"
   ]
  },
  {
   "cell_type": "code",
   "execution_count": 86,
   "id": "ea09163b",
   "metadata": {},
   "outputs": [
    {
     "name": "stdout",
     "output_type": "stream",
     "text": [
      "hello world\n"
     ]
    }
   ],
   "source": [
    "def first_function():\n",
    "    print(\"hello world\")\n",
    "    \n",
    "first_function()"
   ]
  },
  {
   "cell_type": "code",
   "execution_count": 89,
   "id": "2c4ade11",
   "metadata": {},
   "outputs": [
    {
     "name": "stdout",
     "output_type": "stream",
     "text": [
      "hello Rit\n"
     ]
    }
   ],
   "source": [
    "#defining a function with a positional argument\n",
    "\n",
    "def first_function(name):\n",
    "    print(\"hello\", name)\n",
    "    \n",
    "first_function(\"Rit\")"
   ]
  },
  {
   "cell_type": "code",
   "execution_count": 100,
   "id": "07c3fe18",
   "metadata": {},
   "outputs": [
    {
     "name": "stdout",
     "output_type": "stream",
     "text": [
      "9\n"
     ]
    }
   ],
   "source": [
    "#defining a function with multiple positional arguments\n",
    "\n",
    "def addnumbers(number1, number2):\n",
    "    result = number1 + number2\n",
    "    print(result)\n",
    "    \n",
    "addnumbers(3,6)"
   ]
  },
  {
   "cell_type": "code",
   "execution_count": 102,
   "id": "2bbd5c00",
   "metadata": {},
   "outputs": [
    {
     "name": "stdout",
     "output_type": "stream",
     "text": [
      "10\n"
     ]
    }
   ],
   "source": [
    "#defining a function with a default argument\n",
    "\n",
    "def addnumbers(number1 = 5, number2 = 5):\n",
    "    result = number1 + number2\n",
    "    print(result)\n",
    "    \n",
    "addnumbers()"
   ]
  },
  {
   "cell_type": "code",
   "execution_count": 109,
   "id": "66a2d127",
   "metadata": {},
   "outputs": [
    {
     "name": "stdout",
     "output_type": "stream",
     "text": [
      "10\n"
     ]
    }
   ],
   "source": [
    "#defining a function with a keyword argument\n",
    "\n",
    "def addnumbers(number1, number2):\n",
    "    result = number1 + number2\n",
    "    print(result)\n",
    "    \n",
    "addnumbers(number1=5, number2=5)"
   ]
  },
  {
   "cell_type": "code",
   "execution_count": 111,
   "id": "68b71cda",
   "metadata": {},
   "outputs": [
    {
     "name": "stdout",
     "output_type": "stream",
     "text": [
      "9\n"
     ]
    }
   ],
   "source": [
    "#defining a function with a keyword argument\n",
    "\n",
    "def addnumbers(number1, number2):\n",
    "    result = number1 + number2\n",
    "    print(result)\n",
    "    \n",
    "addnumbers(4, number2=5)"
   ]
  },
  {
   "cell_type": "code",
   "execution_count": 112,
   "id": "4703b7bb",
   "metadata": {},
   "outputs": [],
   "source": [
    "#syntax when using a return statement\n",
    "\n",
    "#def func_name:\n",
    "    #code_to_be_executed\n",
    "    #return statement"
   ]
  },
  {
   "cell_type": "code",
   "execution_count": 113,
   "id": "5163e402",
   "metadata": {},
   "outputs": [
    {
     "name": "stdout",
     "output_type": "stream",
     "text": [
      "7\n"
     ]
    }
   ],
   "source": [
    "def addnumbers(number1, number2):\n",
    "    return number1 + number2\n",
    "\n",
    "myresult = addnumbers(2,5)\n",
    "print(myresult)"
   ]
  },
  {
   "cell_type": "code",
   "execution_count": 119,
   "id": "78d00fd0",
   "metadata": {},
   "outputs": [
    {
     "data": {
      "text/plain": [
       "'even_number'"
      ]
     },
     "execution_count": 119,
     "metadata": {},
     "output_type": "execute_result"
    }
   ],
   "source": [
    "def isevenorodd(number):\n",
    "    if number%2 == 0:\n",
    "        return \"even_number\"\n",
    "    else:\n",
    "        return \"odd_number\"\n",
    "    \n",
    "isevenorodd(22)"
   ]
  },
  {
   "cell_type": "code",
   "execution_count": 3,
   "id": "0507ec41",
   "metadata": {},
   "outputs": [
    {
     "data": {
      "text/plain": [
       "15"
      ]
     },
     "execution_count": 3,
     "metadata": {},
     "output_type": "execute_result"
    }
   ],
   "source": [
    "#function args - used when youn don't know how many arguments will be passed to your function\n",
    "def addfunction(*number):\n",
    "    return sum(number)\n",
    "\n",
    "addfunction(1,2,3,4,5)"
   ]
  },
  {
   "cell_type": "code",
   "execution_count": 6,
   "id": "d0410940",
   "metadata": {},
   "outputs": [
    {
     "name": "stdout",
     "output_type": "stream",
     "text": [
      "9\n"
     ]
    }
   ],
   "source": [
    "#USING THE NORMAL WAY OF WRITING FUNCTIONS\n",
    "def addnumbers(number1, number2):\n",
    "    result = number1 + number2\n",
    "    print(result)\n",
    "    \n",
    "addnumbers(3,6)"
   ]
  },
  {
   "cell_type": "code",
   "execution_count": 8,
   "id": "5593d4a3",
   "metadata": {},
   "outputs": [
    {
     "name": "stdout",
     "output_type": "stream",
     "text": [
      "9\n"
     ]
    }
   ],
   "source": [
    "#USING LAMBDA FUNCTIONS\n",
    "#lambda with positional arguments\n",
    "addnumbers = lambda number1,number2:number1+number2\n",
    "print(addnumbers(3,6))"
   ]
  },
  {
   "cell_type": "code",
   "execution_count": 20,
   "id": "f901cfb6",
   "metadata": {},
   "outputs": [
    {
     "data": {
      "text/plain": [
       "'even_number'"
      ]
     },
     "execution_count": 20,
     "metadata": {},
     "output_type": "execute_result"
    }
   ],
   "source": [
    "#USING THE NORMAL WAY OF WRITING FUNCTIONS\n",
    "def isevenorodd(number):\n",
    "    if number%2 == 0:\n",
    "        return \"even_number\"\n",
    "    else:\n",
    "        return \"odd_number\"\n",
    "    \n",
    "isevenorodd(22)"
   ]
  },
  {
   "cell_type": "code",
   "execution_count": 29,
   "id": "82fca436",
   "metadata": {},
   "outputs": [
    {
     "data": {
      "text/plain": [
       "'odd_number'"
      ]
     },
     "execution_count": 29,
     "metadata": {},
     "output_type": "execute_result"
    }
   ],
   "source": [
    "#USING LAMBDA FUNCTIONS\n",
    "(lambda isevenorodd:(isevenorodd % 2 and \"odd_number\" or \"even_number\"))(23)"
   ]
  },
  {
   "cell_type": "code",
   "execution_count": 12,
   "id": "5dc10257",
   "metadata": {},
   "outputs": [
    {
     "name": "stdout",
     "output_type": "stream",
     "text": [
      "True\n"
     ]
    }
   ],
   "source": [
    "#USING LAMBDA\n",
    "iseven = lambda val:val%2==0\n",
    "print(iseven(4))"
   ]
  },
  {
   "cell_type": "code",
   "execution_count": 13,
   "id": "b6a231b0",
   "metadata": {},
   "outputs": [
    {
     "data": {
      "text/plain": [
       "35"
      ]
     },
     "execution_count": 13,
     "metadata": {},
     "output_type": "execute_result"
    }
   ],
   "source": [
    "(lambda a,b:a*b)(5,7)"
   ]
  },
  {
   "cell_type": "code",
   "execution_count": 14,
   "id": "e863b0ef",
   "metadata": {},
   "outputs": [
    {
     "name": "stdout",
     "output_type": "stream",
     "text": [
      "6\n"
     ]
    }
   ],
   "source": [
    "#lambda with keyword arguments\n",
    "product = lambda a,b,c: a*b*c\n",
    "print(product(a=1,b=2,c=3))"
   ]
  },
  {
   "cell_type": "code",
   "execution_count": 18,
   "id": "f4495bdb",
   "metadata": {},
   "outputs": [
    {
     "name": "stdout",
     "output_type": "stream",
     "text": [
      "5\n"
     ]
    }
   ],
   "source": [
    "#lambda with default arguments\n",
    "addnumbers = lambda c=2,a=1,b=2:a+b+c\n",
    "print(addnumbers())"
   ]
  },
  {
   "cell_type": "code",
   "execution_count": 19,
   "id": "8fe8617d",
   "metadata": {},
   "outputs": [
    {
     "name": "stdout",
     "output_type": "stream",
     "text": [
      "5\n"
     ]
    }
   ],
   "source": [
    "addnumbers = lambda c,a=1,b=2:a+b+c\n",
    "print(addnumbers(2))"
   ]
  },
  {
   "cell_type": "markdown",
   "id": "b21b39fc",
   "metadata": {},
   "source": [
    "###FILTER FUNCTION -- used to filter out values of an iterable based on a condition"
   ]
  },
  {
   "cell_type": "code",
   "execution_count": null,
   "id": "3a299011",
   "metadata": {},
   "outputs": [],
   "source": [
    "#syntax of filter function\n",
    "\n",
    "#filter(function,iterable)"
   ]
  },
  {
   "cell_type": "code",
   "execution_count": 36,
   "id": "61a72d2e",
   "metadata": {},
   "outputs": [
    {
     "name": "stdout",
     "output_type": "stream",
     "text": [
      "18\n",
      "24\n",
      "32\n"
     ]
    }
   ],
   "source": [
    "ages = [5,12,17,18,24,32]\n",
    "\n",
    "def myfunc(x):\n",
    "    if x < 18:\n",
    "        return False\n",
    "    else:\n",
    "        return True\n",
    "    \n",
    "adults = filter(myfunc,ages)\n",
    "\n",
    "for x in adults:\n",
    "    print(x)"
   ]
  },
  {
   "cell_type": "code",
   "execution_count": 39,
   "id": "939cbda0",
   "metadata": {},
   "outputs": [
    {
     "name": "stdout",
     "output_type": "stream",
     "text": [
      "[18, 24, 32]\n"
     ]
    }
   ],
   "source": [
    "adults = list(filter(lambda ages: ages >= 18, ages))\n",
    "print(adults)"
   ]
  },
  {
   "cell_type": "code",
   "execution_count": 45,
   "id": "0925921f",
   "metadata": {},
   "outputs": [
    {
     "name": "stdout",
     "output_type": "stream",
     "text": [
      "[1, 4, 9, 16, 25, 36, 49, 64, 81]\n"
     ]
    }
   ],
   "source": [
    "numbers2 = [1,2,3,4,5,6,7,8,9]\n",
    "squared = list(map(lambda num:num**2, numbers2))\n",
    "print(squared)"
   ]
  },
  {
   "cell_type": "code",
   "execution_count": 50,
   "id": "3ba38d69",
   "metadata": {},
   "outputs": [
    {
     "name": "stdout",
     "output_type": "stream",
     "text": [
      "[1.0, 2.0, 3.0, 4.0, 5.0, 6.0, 7.0, 8.0, 9.0]\n"
     ]
    }
   ],
   "source": [
    "import math\n",
    "numbers3 = [1, 4, 9, 16, 25, 36, 49, 64, 81]\n",
    "sqr = list(map(lambda num : math.sqrt(num), numbers3))\n",
    "print(sqr)"
   ]
  },
  {
   "cell_type": "code",
   "execution_count": null,
   "id": "70bb6099",
   "metadata": {},
   "outputs": [],
   "source": []
  }
 ],
 "metadata": {
  "kernelspec": {
   "display_name": "Python 3 (ipykernel)",
   "language": "python",
   "name": "python3"
  },
  "language_info": {
   "codemirror_mode": {
    "name": "ipython",
    "version": 3
   },
   "file_extension": ".py",
   "mimetype": "text/x-python",
   "name": "python",
   "nbconvert_exporter": "python",
   "pygments_lexer": "ipython3",
   "version": "3.9.13"
  }
 },
 "nbformat": 4,
 "nbformat_minor": 5
}
